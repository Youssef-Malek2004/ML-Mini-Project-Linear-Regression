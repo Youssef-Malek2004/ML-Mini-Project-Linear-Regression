{
 "cells": [
  {
   "cell_type": "code",
   "id": "initial_id",
   "metadata": {
    "collapsed": true,
    "ExecuteTime": {
     "end_time": "2025-02-14T13:17:41.627782Z",
     "start_time": "2025-02-14T13:17:41.624490Z"
    }
   },
   "source": [
    "import pandas as pd\n",
    "import numpy as np\n",
    "\n",
    "np.random.seed(42)\n",
    "\n",
    "data = {\n",
    "    \"Y\": np.random.randint(0, 101, 100),\n",
    "    \"Y_hat\": np.random.randint(0, 101, 100)\n",
    "}\n",
    "\n",
    "df = pd.DataFrame(data)\n",
    "rss = np.sum((df['Y'] - df['Y_hat']) ** 2)\n",
    "rss"
   ],
   "outputs": [
    {
     "data": {
      "text/plain": [
       "176936"
      ]
     },
     "execution_count": 6,
     "metadata": {},
     "output_type": "execute_result"
    }
   ],
   "execution_count": 6
  },
  {
   "metadata": {},
   "cell_type": "code",
   "outputs": [],
   "execution_count": null,
   "source": "",
   "id": "b00bb3465872caf0"
  }
 ],
 "metadata": {
  "kernelspec": {
   "display_name": "Python 3",
   "language": "python",
   "name": "python3"
  },
  "language_info": {
   "codemirror_mode": {
    "name": "ipython",
    "version": 2
   },
   "file_extension": ".py",
   "mimetype": "text/x-python",
   "name": "python",
   "nbconvert_exporter": "python",
   "pygments_lexer": "ipython2",
   "version": "2.7.6"
  }
 },
 "nbformat": 4,
 "nbformat_minor": 5
}
